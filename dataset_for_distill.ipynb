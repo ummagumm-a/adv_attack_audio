{
 "cells": [
  {
   "cell_type": "code",
   "execution_count": 37,
   "metadata": {},
   "outputs": [],
   "source": [
    "import os\n",
    "import thinkdsp as tp\n",
    "import numpy as np\n",
    "import librosa\n",
    "from librosa.display import specshow\n",
    "import matplotlib.pyplot as plt\n",
    "from pathlib import Path\n",
    "from tqdm.notebook import tqdm\n",
    "import multiprocessing as mp\n",
    "from PIL import Image\n",
    "import tensorflow as tf\n",
    "import shutil"
   ]
  },
  {
   "cell_type": "code",
   "execution_count": 2,
   "metadata": {},
   "outputs": [],
   "source": [
    "import re\n",
    "\n",
    "def rename(path):\n",
    "    path = re.sub(r'train_audio', 'train_spec_other', path)\n",
    "    path = re.sub(r'wav$', 'png', path)\n",
    "    \n",
    "    return path\n",
    "\n",
    "def wav_to_png(path):\n",
    "    wave = tp.read_wave(path)\n",
    "    spectrogram = wave.make_spectrogram(seg_length=1024)\n",
    "    spectrogram.plot(high=5000)\n",
    "    plt.axis('off')\n",
    "    png_path = rename(path)\n",
    "    os.makedirs(os.path.dirname(png_path), exist_ok=True)\n",
    "    plt.savefig(png_path, bbox_inches='tight', pad_inches=0)"
   ]
  },
  {
   "cell_type": "code",
   "execution_count": 3,
   "metadata": {},
   "outputs": [],
   "source": [
    "wavs = list(map(str, Path('train_audio').rglob('*.wav')))\n"
   ]
  },
  {
   "cell_type": "code",
   "execution_count": 23,
   "metadata": {},
   "outputs": [
    {
     "data": {
      "application/vnd.jupyter.widget-view+json": {
       "model_id": "6767330d43024ebeabe6d1f1b9cd7be6",
       "version_major": 2,
       "version_minor": 0
      },
      "text/plain": [
       "  0%|          | 0/6398 [00:00<?, ?it/s]"
      ]
     },
     "metadata": {},
     "output_type": "display_data"
    }
   ],
   "source": [
    "\n",
    "with mp.Pool() as pool:\n",
    "    pool.map(wav_to_png, tqdm(wavs))"
   ]
  },
  {
   "cell_type": "code",
   "execution_count": 4,
   "metadata": {},
   "outputs": [],
   "source": [
    "pretrained_model = tf.keras.models.load_model('my_model', compile=False)"
   ]
  },
  {
   "cell_type": "code",
   "execution_count": 16,
   "metadata": {},
   "outputs": [
    {
     "data": {
      "text/plain": [
       "['down', 'go', 'left', 'no', 'right', 'stop', 'up', 'yes']"
      ]
     },
     "execution_count": 16,
     "metadata": {},
     "output_type": "execute_result"
    }
   ],
   "source": [
    "class_names = sorted(os.listdir('train_audio'))\n",
    "class_names"
   ]
  },
  {
   "cell_type": "code",
   "execution_count": 42,
   "metadata": {},
   "outputs": [
    {
     "data": {
      "application/vnd.jupyter.widget-view+json": {
       "model_id": "84838691948d42529287dfd4e1d16b39",
       "version_major": 2,
       "version_minor": 0
      },
      "text/plain": [
       "  0%|          | 0/6398 [00:00<?, ?it/s]"
      ]
     },
     "metadata": {},
     "output_type": "display_data"
    }
   ],
   "source": [
    "predicted = []\n",
    "real = []\n",
    "for path in tqdm(wavs):\n",
    "    spec = rename(path)\n",
    "    with Image.open(spec) as img:\n",
    "        img = np.asarray(img)[None, :, :, :3]\n",
    "\n",
    "    cls = pretrained_model(img).numpy().argmax()\n",
    "    cls_name = class_names[cls]\n",
    "    predicted.append(cls_name)\n",
    "    \n",
    "    real_cls = re.findall(r'/(\\w+)/', path)[0]\n",
    "    real.append(real_cls)\n",
    "    \n",
    "    dst = os.path.join('train_audio_for_distill', \n",
    "                       cls_name, os.path.basename(path)\n",
    "                      )\n",
    "    os.makedirs(os.path.dirname(dst), exist_ok=True)\n",
    "    shutil.copy(path, dst)"
   ]
  },
  {
   "cell_type": "markdown",
   "metadata": {},
   "source": [
    "Pretrained model's accuracy on the training dataset."
   ]
  },
  {
   "cell_type": "code",
   "execution_count": 43,
   "metadata": {},
   "outputs": [
    {
     "data": {
      "text/plain": [
       "0.866051891216005"
      ]
     },
     "execution_count": 43,
     "metadata": {},
     "output_type": "execute_result"
    }
   ],
   "source": [
    "np.sum(np.array(predicted) == np.array(real)) / len(real)"
   ]
  },
  {
   "cell_type": "code",
   "execution_count": null,
   "metadata": {},
   "outputs": [],
   "source": []
  }
 ],
 "metadata": {
  "kernelspec": {
   "display_name": "Python 3",
   "language": "python",
   "name": "python3"
  },
  "language_info": {
   "codemirror_mode": {
    "name": "ipython",
    "version": 3
   },
   "file_extension": ".py",
   "mimetype": "text/x-python",
   "name": "python",
   "nbconvert_exporter": "python",
   "pygments_lexer": "ipython3",
   "version": "3.8.10"
  }
 },
 "nbformat": 4,
 "nbformat_minor": 2
}
